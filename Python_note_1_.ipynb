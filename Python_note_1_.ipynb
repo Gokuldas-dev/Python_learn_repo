{
  "nbformat": 4,
  "nbformat_minor": 0,
  "metadata": {
    "colab": {
      "provenance": [],
      "authorship_tag": "ABX9TyOe/op3SHAwG48e9pKCrt79",
      "include_colab_link": true
    },
    "kernelspec": {
      "name": "python3",
      "display_name": "Python 3"
    },
    "language_info": {
      "name": "python"
    }
  },
  "cells": [
    {
      "cell_type": "markdown",
      "metadata": {
        "id": "view-in-github",
        "colab_type": "text"
      },
      "source": [
        "<a href=\"https://colab.research.google.com/github/Gokuldas-dev/Python_learn_repo/blob/main/Python_note_1_.ipynb\" target=\"_parent\"><img src=\"https://colab.research.google.com/assets/colab-badge.svg\" alt=\"Open In Colab\"/></a>"
      ]
    },
    {
      "cell_type": "code",
      "execution_count": 2,
      "metadata": {
        "colab": {
          "base_uri": "https://localhost:8080/"
        },
        "id": "wt5iqT_zYi2i",
        "outputId": "68785204-3f29-480a-9390-b750576369d8"
      },
      "outputs": [
        {
          "output_type": "stream",
          "name": "stdout",
          "text": [
            "This is my first line of code \n"
          ]
        }
      ],
      "source": [
        "print(\"This is my first line of code \")"
      ]
    },
    {
      "cell_type": "code",
      "source": [
        "num1 = input(\"Please enter the first number here: \")\n",
        "num2 = input(\"Please enter the second number here: \")\n",
        "sum = int(num1) + int(num2)\n",
        "print(f\"The sum is : {sum}\")"
      ],
      "metadata": {
        "colab": {
          "base_uri": "https://localhost:8080/"
        },
        "id": "rcjuI-efY04-",
        "outputId": "d2f8e6ca-2f96-4a17-833e-d432e38d49da"
      },
      "execution_count": 4,
      "outputs": [
        {
          "output_type": "stream",
          "name": "stdout",
          "text": [
            "Please enter the first number here: 10\n",
            "Please enter the second number here: 12\n",
            "The sum is : 22\n"
          ]
        }
      ]
    },
    {
      "cell_type": "code",
      "source": [
        "num1 = input(\"Enter the first number  : \")\n",
        "num2 = input(\"Enter the second number : \")\n",
        "maximum_value = (max(num1,num2))\n",
        "print (f\"The maximum of two numbers is :{maximum_value} \")"
      ],
      "metadata": {
        "colab": {
          "base_uri": "https://localhost:8080/"
        },
        "id": "laY5vNAuZIUZ",
        "outputId": "4ce95f1e-baaf-4a00-e3e9-77ee36805986"
      },
      "execution_count": 6,
      "outputs": [
        {
          "output_type": "stream",
          "name": "stdout",
          "text": [
            "Enter the first number  : 12\n",
            "Enter the second number : 13\n",
            "The maximum of two numbers is :13 \n"
          ]
        }
      ]
    },
    {
      "cell_type": "code",
      "source": [
        "num1 = input(\"Enter the first number  : \")\n",
        "num2 = input(\"Enter the second number : \")\n",
        "minimum_value = (min(num1,num2))\n",
        "print (f\"The maximum of two numbers is :{minimum_value} \")"
      ],
      "metadata": {
        "colab": {
          "base_uri": "https://localhost:8080/"
        },
        "id": "vaigZoMpZ1Y6",
        "outputId": "060058c9-a292-4f22-af77-d045a641343f"
      },
      "execution_count": 7,
      "outputs": [
        {
          "output_type": "stream",
          "name": "stdout",
          "text": [
            "Enter the first number  : 13\n",
            "Enter the second number : 12\n",
            "The maximum of two numbers is :12 \n"
          ]
        }
      ]
    },
    {
      "cell_type": "code",
      "source": [],
      "metadata": {
        "id": "Fr5DlXkZaWra"
      },
      "execution_count": null,
      "outputs": []
    }
  ]
}