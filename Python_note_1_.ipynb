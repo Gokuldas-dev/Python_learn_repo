{
  "nbformat": 4,
  "nbformat_minor": 0,
  "metadata": {
    "colab": {
      "provenance": [],
      "authorship_tag": "ABX9TyPbJ1wOjJhRX6hTz3svpz0n",
      "include_colab_link": true
    },
    "kernelspec": {
      "name": "python3",
      "display_name": "Python 3"
    },
    "language_info": {
      "name": "python"
    }
  },
  "cells": [
    {
      "cell_type": "markdown",
      "metadata": {
        "id": "view-in-github",
        "colab_type": "text"
      },
      "source": [
        "<a href=\"https://colab.research.google.com/github/Gokuldas-dev/Python_learn_repo/blob/main/Python_note_1_.ipynb\" target=\"_parent\"><img src=\"https://colab.research.google.com/assets/colab-badge.svg\" alt=\"Open In Colab\"/></a>"
      ]
    },
    {
      "cell_type": "code",
      "execution_count": null,
      "metadata": {
        "colab": {
          "base_uri": "https://localhost:8080/"
        },
        "id": "wt5iqT_zYi2i",
        "outputId": "68785204-3f29-480a-9390-b750576369d8"
      },
      "outputs": [
        {
          "output_type": "stream",
          "name": "stdout",
          "text": [
            "This is my first line of code \n"
          ]
        }
      ],
      "source": [
        "print(\"This is my first line of code \")"
      ]
    },
    {
      "cell_type": "code",
      "source": [
        "num1 = input(\"Please enter the first number here: \")\n",
        "num2 = input(\"Please enter the second number here: \")\n",
        "sum = int(num1) + int(num2)\n",
        "print(f\"The sum is : {sum}\")"
      ],
      "metadata": {
        "colab": {
          "base_uri": "https://localhost:8080/"
        },
        "id": "rcjuI-efY04-",
        "outputId": "d2f8e6ca-2f96-4a17-833e-d432e38d49da"
      },
      "execution_count": null,
      "outputs": [
        {
          "output_type": "stream",
          "name": "stdout",
          "text": [
            "Please enter the first number here: 10\n",
            "Please enter the second number here: 12\n",
            "The sum is : 22\n"
          ]
        }
      ]
    },
    {
      "cell_type": "code",
      "source": [
        "num1 = input(\"Enter the first number  : \")\n",
        "num2 = input(\"Enter the second number : \")\n",
        "maximum_value = (max(num1,num2))\n",
        "print (f\"The maximum of two numbers is :{maximum_value} \")"
      ],
      "metadata": {
        "colab": {
          "base_uri": "https://localhost:8080/"
        },
        "id": "laY5vNAuZIUZ",
        "outputId": "4ce95f1e-baaf-4a00-e3e9-77ee36805986"
      },
      "execution_count": null,
      "outputs": [
        {
          "output_type": "stream",
          "name": "stdout",
          "text": [
            "Enter the first number  : 12\n",
            "Enter the second number : 13\n",
            "The maximum of two numbers is :13 \n"
          ]
        }
      ]
    },
    {
      "cell_type": "code",
      "source": [
        "num1 = input(\"Enter the first number  : \")\n",
        "num2 = input(\"Enter the second number : \")\n",
        "minimum_value = (min(num1,num2))\n",
        "print (f\"The maximum of two numbers is :{minimum_value} \")"
      ],
      "metadata": {
        "colab": {
          "base_uri": "https://localhost:8080/"
        },
        "id": "vaigZoMpZ1Y6",
        "outputId": "060058c9-a292-4f22-af77-d045a641343f"
      },
      "execution_count": null,
      "outputs": [
        {
          "output_type": "stream",
          "name": "stdout",
          "text": [
            "Enter the first number  : 13\n",
            "Enter the second number : 12\n",
            "The maximum of two numbers is :12 \n"
          ]
        }
      ]
    },
    {
      "cell_type": "code",
      "source": [
        "friends = 0\n",
        "friends = friends + 1\n",
        "print(friends)\n",
        "friends = 0\n",
        "friends += 1\n",
        "print(friends)"
      ],
      "metadata": {
        "id": "Fr5DlXkZaWra",
        "colab": {
          "base_uri": "https://localhost:8080/"
        },
        "outputId": "14fc17a3-07a6-42ef-ec4b-6e38fdfd5599"
      },
      "execution_count": 2,
      "outputs": [
        {
          "output_type": "stream",
          "name": "stdout",
          "text": [
            "1\n",
            "1\n"
          ]
        }
      ]
    },
    {
      "cell_type": "code",
      "source": [
        "friends = 0\n",
        "friends -= 1\n",
        "print(friends)"
      ],
      "metadata": {
        "colab": {
          "base_uri": "https://localhost:8080/"
        },
        "id": "5WFqGOqu5R-w",
        "outputId": "ca7a7cf7-55cb-4a2c-dabc-f551a3edd7bf"
      },
      "execution_count": 4,
      "outputs": [
        {
          "output_type": "stream",
          "name": "stdout",
          "text": [
            "-1\n"
          ]
        }
      ]
    },
    {
      "cell_type": "code",
      "source": [
        "friends = 5\n",
        "friends  *= 3\n",
        "print(friends)"
      ],
      "metadata": {
        "colab": {
          "base_uri": "https://localhost:8080/"
        },
        "id": "vBBNsrnJ5aRv",
        "outputId": "bd2da271-0596-4578-f296-6dc76154a9ad"
      },
      "execution_count": 7,
      "outputs": [
        {
          "output_type": "stream",
          "name": "stdout",
          "text": [
            "15\n"
          ]
        }
      ]
    },
    {
      "cell_type": "code",
      "source": [
        "x = 3.14\n",
        "y = -4\n",
        "z = 5\n",
        "\n",
        "result = round(x)# this will round the value of x\n",
        "print(result)\n",
        "result = abs(y) # this will take take the absolute of y\n",
        "print(result)\n",
        "result = pow(4,3) #this is the power function\n",
        "print(result)"
      ],
      "metadata": {
        "colab": {
          "base_uri": "https://localhost:8080/"
        },
        "id": "zyIQusbN5jxa",
        "outputId": "19c25d3a-2fa5-45bb-e355-22ece6c37fce"
      },
      "execution_count": 9,
      "outputs": [
        {
          "output_type": "stream",
          "name": "stdout",
          "text": [
            "3\n",
            "4\n",
            "64\n"
          ]
        }
      ]
    },
    {
      "cell_type": "code",
      "source": [
        "import math\n",
        "value = \"math\"\n",
        "print(f\"This is a program that used the {value} function that is used by import {value} \\n\",\"=========================\")\n",
        "print(f\"This is the PI value using math function {math.pi} \")\n",
        "print(math.pi,\"\\n\")\n",
        "print(f\"This is program that shows the value of e in {value}\")\n",
        "print(math.e)"
      ],
      "metadata": {
        "colab": {
          "base_uri": "https://localhost:8080/"
        },
        "id": "JioN0Bi46Ukn",
        "outputId": "8b2e03e6-8447-4249-9bb6-78a5199b4a7f"
      },
      "execution_count": 20,
      "outputs": [
        {
          "output_type": "stream",
          "name": "stdout",
          "text": [
            "This is a program that used the math function that is used by import math \n",
            " =========================\n",
            "This is the PI value using math function 3.141592653589793 \n",
            "3.141592653589793 \n",
            "\n",
            "This is program that shows the value of e in math\n",
            "2.718281828459045\n"
          ]
        }
      ]
    },
    {
      "cell_type": "code",
      "source": [
        "#this is a program that do the arithmatic opertaion in python\n",
        "value = int(input (\"Enter a value for the operation :\"))\n",
        "\n",
        "value += 1\n",
        "\n",
        "print(f\"This is the new value after the operation  {value}\")"
      ],
      "metadata": {
        "colab": {
          "base_uri": "https://localhost:8080/"
        },
        "id": "4xAxqGjp9QNn",
        "outputId": "ce872d46-0dde-43ee-d882-3d4b60c5b161"
      },
      "execution_count": 25,
      "outputs": [
        {
          "output_type": "stream",
          "name": "stdout",
          "text": [
            "Enter a value for the operation :11\n",
            "This is the new value after the operation  12\n"
          ]
        }
      ]
    },
    {
      "cell_type": "code",
      "source": [
        "import math\n",
        "print(\"cercumference of a circle \\n ++++++++++++\")\n",
        "radius = int(input(\"Enter the radius of the circle : \"))\n",
        "Cercum = ((2*(math.pi)*radius))\n",
        "print(f\"This is the Cercum of a Circle {round(Cercum,2)}\")"
      ],
      "metadata": {
        "colab": {
          "base_uri": "https://localhost:8080/"
        },
        "id": "yZfllksH9owP",
        "outputId": "a39e53f1-9fc3-4dfc-deea-12a7b349d23c"
      },
      "execution_count": 33,
      "outputs": [
        {
          "output_type": "stream",
          "name": "stdout",
          "text": [
            "cercumference of a circle \n",
            " ++++++++++++\n",
            "Enter the radius of the circle : 56\n",
            "This is the Cercum of a Circle 351.86\n"
          ]
        }
      ]
    },
    {
      "cell_type": "code",
      "source": [
        "import math\n",
        "a = int(input(\"Enter the Value of a :\"))\n",
        "b = int(input(\"Enter the Value of b :\"))\n",
        "c = math.sqrt(pow(a,2) + pow(b,2))\n",
        "#c = math.sqrt((a**2)+(b**2))\n",
        "print(f\"the value of c  is : {round(c,2)}\")"
      ],
      "metadata": {
        "colab": {
          "base_uri": "https://localhost:8080/"
        },
        "id": "cp23hStdAxpB",
        "outputId": "55f10567-764a-4e51-9031-7847fd70abd7"
      },
      "execution_count": 40,
      "outputs": [
        {
          "output_type": "stream",
          "name": "stdout",
          "text": [
            "Enter the Value of a :3\n",
            "Enter the Value of b :4\n",
            "the value of c  is : 5.0\n"
          ]
        }
      ]
    },
    {
      "cell_type": "code",
      "source": [],
      "metadata": {
        "colab": {
          "base_uri": "https://localhost:8080/"
        },
        "id": "B7VGiySjCp-G",
        "outputId": "823dc0cb-51c7-42c9-f087-f3ad94745999"
      },
      "execution_count": 1,
      "outputs": [
        {
          "output_type": "stream",
          "name": "stdout",
          "text": [
            "Welcome to my Computer quiz!\n",
            "Do you want to play ? no\n",
            "Okay! Let's play :\n",
            "What does CPU stand for? certal proceesing unit\n",
            "Incorrect!\n",
            "What does GPU stand for? graphcal waidhasd\n",
            "Incorrect!\n",
            "What does RAM stand for? asd\n",
            "Incorrect!\n",
            "What does PSU stand for? a\n",
            "Incorrect!\n",
            "You got 0 questions correct!\n",
            "You got 0.0%.\n"
          ]
        }
      ]
    },
    {
      "cell_type": "code",
      "source": [
        "print(\"Welcome to my computer quiz!\")\n",
        "\n",
        "playing = input(\"Do you want to play? \")\n",
        "\n",
        "if playing.lower() != \"yes\":\n",
        "    quit()\n",
        "\n",
        "print(\"Okay! Let's play :)\")\n",
        "score = 0\n",
        "\n",
        "answer = input(\"What does CPU stand for? \")\n",
        "if answer.lower() == \"central processing unit\":\n",
        "    print('Correct!')\n",
        "    score += 1\n",
        "else:\n",
        "    print(\"Incorrect!\")\n",
        "\n",
        "answer = input(\"What does GPU stand for? \")\n",
        "if answer.lower() == \"graphics processing unit\":\n",
        "    print('Correct!')\n",
        "    score += 1\n",
        "else:\n",
        "    print(\"Incorrect!\")\n",
        "\n",
        "answer = input(\"What does RAM stand for? \")\n",
        "if answer.lower() == \"random access memory\":\n",
        "    print('Correct!')\n",
        "    score += 1\n",
        "else:\n",
        "    print(\"Incorrect!\")\n",
        "\n",
        "answer = input(\"What does PSU stand for? \")\n",
        "if answer.lower() == \"power supply\":\n",
        "    print('Correct!')\n",
        "    score += 1\n",
        "else:\n",
        "    print(\"Incorrect!\")\n",
        "\n",
        "print(\"You got \" + str(score) + \" questions correct!\")\n",
        "print(\"You got \" + str((score / 4) * 100) + \"%.\")"
      ],
      "metadata": {
        "colab": {
          "base_uri": "https://localhost:8080/"
        },
        "id": "Tfwevh2pNWLY",
        "outputId": "e06decf6-1a23-460d-87b2-aa7891c106c6"
      },
      "execution_count": 1,
      "outputs": [
        {
          "output_type": "stream",
          "name": "stdout",
          "text": [
            "Welcome to my computer quiz!\n",
            "Do you want to play? yes\n",
            "Okay! Let's play :)\n",
            "What does CPU stand for? central processing unit\n",
            "Correct!\n",
            "What does GPU stand for? graphics processing unit\n",
            "Correct!\n",
            "What does RAM stand for? random access memory\n",
            "Correct!\n",
            "What does PSU stand for? power supply\n",
            "Correct!\n",
            "You got 4 questions correct!\n",
            "You got 100.0%.\n"
          ]
        }
      ]
    }
  ]
}